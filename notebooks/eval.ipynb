{
 "cells": [
  {
   "cell_type": "code",
   "execution_count": 1,
   "metadata": {},
   "outputs": [],
   "source": [
    "%load_ext autoreload\n",
    "%autoreload 2"
   ]
  },
  {
   "cell_type": "code",
   "execution_count": null,
   "metadata": {},
   "outputs": [],
   "source": [
    "from magpylib import magnet\n",
    "from nn_magnetics.utils.physics import (\n",
    "    Dz_cuboid_elementwise,\n",
    "    Dz_cuboid,\n",
    "    Bfield_homogeneous,\n",
    ")\n",
    "from nn_magnetics.utils.metrics import angle_error, relative_amplitude_error, calculate_metrics_baseline\n",
    "from nn_magnetics.data.create_data import generate_points_grid\n",
    "import numpy as np\n",
    "from nn_magnetics.data import AnisotropicData\n",
    "from nn_magnetics.models import QuaternionNet, AngleAmpCorrectionNetwork\n",
    "from pathlib import Path\n",
    "import torch\n",
    "from nn_magnetics.utils.plotting import plot_heatmaps\n",
    "from time import perf_counter\n",
    "from nn_magnetics.predictions import B as calcB\n",
    "import magpylib\n",
    "from magpylib_material_response import meshing, demag"
   ]
  },
  {
   "cell_type": "code",
   "execution_count": 3,
   "metadata": {},
   "outputs": [],
   "source": [
    "torch.set_printoptions(precision=8)"
   ]
  },
  {
   "cell_type": "code",
   "execution_count": null,
   "metadata": {},
   "outputs": [],
   "source": []
  },
  {
   "cell_type": "code",
   "execution_count": 4,
   "metadata": {},
   "outputs": [],
   "source": [
    "valid_data = AnisotropicData(\"../data/3dof_chi_v2/validation_fast\", device=\"cpu\")\n",
    "X, B = valid_data.get_magnets()\n",
    "X, B = X.reshape(-1, 8), B.reshape(-1, 6)"
   ]
  },
  {
   "cell_type": "code",
   "execution_count": 5,
   "metadata": {},
   "outputs": [],
   "source": [
    "n_samples = X.shape[0]\n",
    "aa, bb = X[:,0].unsqueeze(-1), X[:,1].unsqueeze(-1)\n",
    "chix, chiy, chiz = X[:,2], X[:,3], X[:,4]\n",
    "\n",
    "grid_normalized = X[:, 5:]\n",
    "grid = grid_normalized.clone().requires_grad_(True)\n",
    "# grid[:, 0] *= a\n",
    "# grid[:, 1] *= b\n",
    "_, B_reduced = B[:,:3], B[:,3:]"
   ]
  },
  {
   "cell_type": "code",
   "execution_count": 6,
   "metadata": {},
   "outputs": [],
   "source": [
    "# aa = torch.ones((n_samples, 1)) * a\n",
    "# bb = torch.ones((n_samples, 1)) * b\n",
    "cc = torch.ones((n_samples, 1))\n",
    "\n",
    "dims = torch.concat((aa, bb, cc), dim=1)"
   ]
  },
  {
   "cell_type": "code",
   "execution_count": null,
   "metadata": {},
   "outputs": [],
   "source": [
    "\n",
    "\n",
    "\n",
    "pz = 1 / (1 + chiz * Dz_cuboid(dims)).unsqueeze(-1)\n",
    "\n",
    "polarizations = torch.concat((torch.zeros((n_samples, 1)),torch.zeros((n_samples, 1)),pz), dim=1)\n",
    "\n",
    "B_torch = Bfield_homogeneous(\n",
    "    observers=grid,\n",
    "    dimensions=dims,\n",
    "    polarizations=polarizations,\n",
    ")\n",
    "\n",
    "div = torch.zeros(n_samples)  # Store divergence for each batch\n",
    "    \n",
    "for i in range(3):  # Loop over Bx, By, Bz\n",
    "        grad_Bi = torch.autograd.grad(B_torch[:, i], grid, grad_outputs=torch.ones_like(B_torch[:, i]), retain_graph=True)[0]\n",
    "        div += grad_Bi[:, i] "
   ]
  },
  {
   "cell_type": "code",
   "execution_count": 16,
   "metadata": {},
   "outputs": [
    {
     "data": {
      "text/plain": [
       "tensor(-2.42016972e-12)"
      ]
     },
     "execution_count": 16,
     "metadata": {},
     "output_type": "execute_result"
    }
   ],
   "source": [
    "div.min()"
   ]
  },
  {
   "cell_type": "code",
   "execution_count": null,
   "metadata": {},
   "outputs": [
    {
     "data": {
      "text/plain": [
       "(tensor(2.91658852e-07), tensor(0.))"
      ]
     },
     "execution_count": 24,
     "metadata": {},
     "output_type": "execute_result"
    }
   ],
   "source": [
    "torch.mean(angle_error(B_torch, B_reduced)), torch.mean(relative_amplitude_error(B_torch, B_reduced, False))"
   ]
  },
  {
   "cell_type": "code",
   "execution_count": null,
   "metadata": {},
   "outputs": [],
   "source": []
  }
 ],
 "metadata": {
  "kernelspec": {
   "display_name": ".venv",
   "language": "python",
   "name": "python3"
  },
  "language_info": {
   "codemirror_mode": {
    "name": "ipython",
    "version": 3
   },
   "file_extension": ".py",
   "mimetype": "text/x-python",
   "name": "python",
   "nbconvert_exporter": "python",
   "pygments_lexer": "ipython3",
   "version": "3.12.7"
  }
 },
 "nbformat": 4,
 "nbformat_minor": 2
}
