{
 "cells": [
  {
   "cell_type": "code",
   "execution_count": 1,
   "metadata": {},
   "outputs": [],
   "source": [
    "%load_ext autoreload\n",
    "%autoreload 2"
   ]
  },
  {
   "cell_type": "code",
   "execution_count": null,
   "metadata": {},
   "outputs": [
    {
     "ename": "ModuleNotFoundError",
     "evalue": "No module named 'src'",
     "output_type": "error",
     "traceback": [
      "\u001b[0;31m---------------------------------------------------------------------------\u001b[0m",
      "\u001b[0;31mModuleNotFoundError\u001b[0m                       Traceback (most recent call last)",
      "Cell \u001b[0;32mIn[2], line 1\u001b[0m\n\u001b[0;32m----> 1\u001b[0m \u001b[38;5;28;01mfrom\u001b[39;00m \u001b[38;5;21;01msrc\u001b[39;00m\u001b[38;5;21;01m.\u001b[39;00m\u001b[38;5;21;01mutils\u001b[39;00m \u001b[38;5;28;01mimport\u001b[39;00m get_device\n\u001b[1;32m      2\u001b[0m \u001b[38;5;28;01mimport\u001b[39;00m \u001b[38;5;21;01mmatplotlib\u001b[39;00m\u001b[38;5;21;01m.\u001b[39;00m\u001b[38;5;21;01mpyplot\u001b[39;00m \u001b[38;5;28;01mas\u001b[39;00m \u001b[38;5;21;01mplt\u001b[39;00m\n\u001b[1;32m      3\u001b[0m \u001b[38;5;28;01mimport\u001b[39;00m \u001b[38;5;21;01mtorch\u001b[39;00m\n",
      "\u001b[0;31mModuleNotFoundError\u001b[0m: No module named 'src'"
     ]
    }
   ],
   "source": [
    "from src.utils import get_device\n",
    "import matplotlib.pyplot as plt\n",
    "import torch \n",
    "from src.dataset import get_one_magnet, ChiMode\n",
    "import numpy as np\n",
    "from src.train import calculate_metrics, calculate_metrics_baseline\n",
    "from src.plotting import plot_heatmaps_amplitude"
   ]
  },
  {
   "cell_type": "code",
   "execution_count": null,
   "metadata": {},
   "outputs": [],
   "source": [
    "from src.model import Network, torch\n",
    "\n",
    "model = Network(in_features=6, hidden_dim_factor=12, out_features=3)\n",
    "weights_path = \"../results/2024-11-11 15:56:52.417714/weights.pt\"\n",
    "model.load_state_dict(torch.load(weights_path, weights_only=True))"
   ]
  },
  {
   "cell_type": "code",
   "execution_count": null,
   "metadata": {},
   "outputs": [],
   "source": [
    "def get_amp_heatmap(model, save_path, epoch):\n",
    "    X, B = get_one_magnet(\n",
    "        chi_mode=ChiMode.ISOTROPIC,\n",
    "        data=np.load(\"../data/isotropic_chi/eval/data_1.npz\"),\n",
    "    )\n",
    "\n",
    "    grid = X[:, 3:]\n",
    "    a = float(X[0, 0])\n",
    "    b = float(X[0, 1])\n",
    "    chi = float(X[0, 2])\n",
    "\n",
    "    with torch.no_grad():\n",
    "        B_pred = model(torch.tensor(X))\n",
    "\n",
    "    _, amplitude_errors_baseline = calculate_metrics_baseline(\n",
    "        B=B,\n",
    "        return_abs=False,\n",
    "    )\n",
    "    _, amplitude_errors_trained = calculate_metrics(\n",
    "        B=torch.tensor(B),\n",
    "        B_pred=B_pred,\n",
    "        return_abs=False,\n",
    "    )\n",
    "\n",
    "    plot_heatmaps_amplitude(\n",
    "        grid=grid,\n",
    "        amplitude_errors_baseline=amplitude_errors_baseline,\n",
    "        amplitude_errors_trained=amplitude_errors_trained,\n",
    "        a=a,\n",
    "        b=b,\n",
    "        chi=chi,\n",
    "        epoch=epoch,\n",
    "        save_path=save_path,\n",
    "    )"
   ]
  },
  {
   "cell_type": "code",
   "execution_count": null,
   "metadata": {},
   "outputs": [],
   "source": [
    "get_amp_heatmap(model=model, save_path=None, epoch=\"done\")"
   ]
  },
  {
   "cell_type": "code",
   "execution_count": null,
   "metadata": {},
   "outputs": [],
   "source": []
  }
 ],
 "metadata": {
  "kernelspec": {
   "display_name": ".venv",
   "language": "python",
   "name": "python3"
  },
  "language_info": {
   "codemirror_mode": {
    "name": "ipython",
    "version": 3
   },
   "file_extension": ".py",
   "mimetype": "text/x-python",
   "name": "python",
   "nbconvert_exporter": "python",
   "pygments_lexer": "ipython3",
   "version": "3.12.7"
  }
 },
 "nbformat": 4,
 "nbformat_minor": 2
}
