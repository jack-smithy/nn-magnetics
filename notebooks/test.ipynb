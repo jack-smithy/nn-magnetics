{
 "cells": [
  {
   "cell_type": "code",
   "execution_count": null,
   "metadata": {},
   "outputs": [],
   "source": [
    "%load_ext autoreload\n",
    "%autoreload 2"
   ]
  },
  {
   "cell_type": "code",
   "execution_count": null,
   "metadata": {},
   "outputs": [],
   "source": [
    "import torch\n",
    "from nn_magnetics.dataset import get_data_parallel, ChiMode\n",
    "from nn_magnetics.model import Network\n",
    "from nn_magnetics.plotting import plot_histograms, plot_heatmaps\n"
   ]
  },
  {
   "cell_type": "code",
   "execution_count": null,
   "metadata": {},
   "outputs": [],
   "source": [
    "DEVICE = \"cpu\""
   ]
  },
  {
   "cell_type": "code",
   "execution_count": null,
   "metadata": {},
   "outputs": [],
   "source": [
    "# X_test, B_test = get_data_parallel(\n",
    "#     \"../data/anisotropic_chi/test_isotropic\",\n",
    "#     ChiMode.ANISOTROPIC,\n",
    "# )\n",
    "\n",
    "model = Network(\n",
    "    in_features=7,\n",
    "    hidden_dim_factor=6,\n",
    "    out_features=3,\n",
    ").to(DEVICE, dtype=torch.float64)\n",
    "\n",
    "model.load_state_dict(\n",
    "    torch.load(\n",
    "        \"../results/anisotropic_chi_v2/golden-deluge-10/weights.pt\",\n",
    "        weights_only=True,\n",
    "    )\n",
    ")\n",
    "\n",
    "# plot_histograms(\n",
    "#     X_test=X_test,\n",
    "#     B_test=B_test,\n",
    "#     model=model,\n",
    "#     save_path=\"../results/anisotropic_chi_v2/golden-deluge-10\",\n",
    "#     show_plot=False,\n",
    "#     tag=\"isotropic\",\n",
    "# )\n",
    "\n",
    "plot_heatmaps(\n",
    "    model=model,\n",
    "    # save_path=\"../results/anisotropic_chi_v2/golden-deluge-10\",\n",
    "    save_path=None,\n",
    "    tag=\"anisotropic_4\",\n",
    "    chi_mode=ChiMode.ANISOTROPIC,\n",
    "    eval_path=\"../data/anisotropic_chi/test_anisotropic/data_4.npz\",\n",
    ")"
   ]
  },
  {
   "cell_type": "code",
   "execution_count": null,
   "metadata": {},
   "outputs": [],
   "source": []
  }
 ],
 "metadata": {
  "kernelspec": {
   "display_name": ".venv",
   "language": "python",
   "name": "python3"
  },
  "language_info": {
   "codemirror_mode": {
    "name": "ipython",
    "version": 3
   },
   "file_extension": ".py",
   "mimetype": "text/x-python",
   "name": "python",
   "nbconvert_exporter": "python",
   "pygments_lexer": "ipython3",
   "version": "3.12.7"
  }
 },
 "nbformat": 4,
 "nbformat_minor": 2
}
