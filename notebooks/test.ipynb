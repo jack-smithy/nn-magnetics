{
 "cells": [
  {
   "cell_type": "code",
   "execution_count": 1,
   "metadata": {},
   "outputs": [],
   "source": [
    "%load_ext autoreload\n",
    "%autoreload 2"
   ]
  },
  {
   "cell_type": "code",
   "execution_count": 2,
   "metadata": {},
   "outputs": [],
   "source": [
    "from nn_magnetics.data import AnisotropicData, get_graphs\n",
    "import numpy as np\n",
    "import matplotlib.pyplot as plt\n",
    "from nn_magnetics.utils.metrics import calculate_metrics_baseline"
   ]
  },
  {
   "cell_type": "code",
   "execution_count": 3,
   "metadata": {},
   "outputs": [],
   "source": [
    "mag = np.load(\"../data/3dof_chi/train/data_2.npz\")"
   ]
  },
  {
   "cell_type": "code",
   "execution_count": 4,
   "metadata": {},
   "outputs": [],
   "source": [
    "pz = mag[\"demagnetization_factor\"]\n",
    "a = mag[\"a\"]\n",
    "b =mag[\"b\"]\n",
    "chi_x = mag[\"chi_x\"]\n",
    "chi_y = mag[\"chi_y\"]\n",
    "chi_z = mag[\"chi_z\"]\n",
    "B = mag[\"grid_field_reduced\"]"
   ]
  },
  {
   "cell_type": "code",
   "execution_count": 5,
   "metadata": {},
   "outputs": [
    {
     "name": "stdout",
     "output_type": "stream",
     "text": [
      "====================================================================================================\n",
      "Meshing magnet and applying demag effects\n",
      "\u001b[35m2025-03-05 at 12:15:36\u001b[0m | \u001b[1m  INFO  \u001b[0m | \u001b[36mrun\u001b[0m | \u001b[33m{}\u001b[0m ℹ️ Start Demagnetization of \u001b[34mCollection_01\u001b[0m with 96 cells - Counter({'Cuboid': 96})\n",
      "\u001b[35m2025-03-05 at 12:15:36\u001b[0m | \u001b[32m\u001b[1mSUCCESS \u001b[0m | \u001b[36mtimelog\u001b[0m | \u001b[33m{}\u001b[0m ✅  Demagnetization of \u001b[34mCollection_01\u001b[0m with 96 cells - Counter({'Cuboid': 96}) done\u001b[32m 🕑 1.029sec\u001b[0m\n",
      "Creating measurement grid\n",
      "Calculating analytical B-field\n",
      "Calculating demag B-field\n",
      "Calculating reduced field\n"
     ]
    }
   ],
   "source": [
    "from nn_magnetics.data import simulate_demag\n",
    "\n",
    "new_data = simulate_demag(a, b, (chi_x, chi_y, chi_z), calculate_edge_index=False)\n",
    "B_new = new_data[\"grid_field_reduced\"]"
   ]
  },
  {
   "cell_type": "code",
   "execution_count": 6,
   "metadata": {},
   "outputs": [
    {
     "data": {
      "text/plain": [
       "(np.float64(2.3134109985009722e-07), np.float64(22.244252897866392))"
      ]
     },
     "execution_count": 6,
     "metadata": {},
     "output_type": "execute_result"
    }
   ],
   "source": [
    "from nn_magnetics.utils.metrics import relative_amplitude_error, angle_error\n",
    "\n",
    "angle_err = np.mean(angle_error(B, B_new))\n",
    "amp_err = np.mean(relative_amplitude_error(B, B_new, True))\n",
    "\n",
    "angle_err, amp_err"
   ]
  },
  {
   "cell_type": "code",
   "execution_count": null,
   "metadata": {},
   "outputs": [],
   "source": [
    "data = AnisotropicData(\"../data/3dof_chi/train\")"
   ]
  },
  {
   "cell_type": "code",
   "execution_count": null,
   "metadata": {},
   "outputs": [],
   "source": [
    "X, B = data.get_magnets()"
   ]
  },
  {
   "cell_type": "code",
   "execution_count": null,
   "metadata": {},
   "outputs": [],
   "source": [
    "graphs = get_graphs(\"../data/3dof_chi_graph/train\")"
   ]
  },
  {
   "cell_type": "code",
   "execution_count": null,
   "metadata": {},
   "outputs": [],
   "source": [
    "Xg = np.array([g.x for g in graphs])\n",
    "Bg = np.array([g.y for g in graphs])"
   ]
  },
  {
   "cell_type": "code",
   "execution_count": null,
   "metadata": {},
   "outputs": [],
   "source": [
    "ag = Xg[0, :, 7]\n",
    "an = X[0, :, 7]"
   ]
  },
  {
   "cell_type": "code",
   "execution_count": null,
   "metadata": {},
   "outputs": [],
   "source": [
    "Bg_demag, Bg_ana = Bg[..., :3], Bg[..., 3:]\n",
    "Bn_demag, Bg_ana = B[..., :3], B[..., 3:]"
   ]
  },
  {
   "cell_type": "code",
   "execution_count": null,
   "metadata": {},
   "outputs": [],
   "source": [
    "errs = np.mean([calculate_metrics_baseline(g) for g in Bg], axis=-1)"
   ]
  },
  {
   "cell_type": "code",
   "execution_count": null,
   "metadata": {},
   "outputs": [],
   "source": [
    "angle_err, amp_err = np.mean(errs, axis=0)"
   ]
  },
  {
   "cell_type": "code",
   "execution_count": null,
   "metadata": {},
   "outputs": [],
   "source": [
    "angle_err"
   ]
  },
  {
   "cell_type": "code",
   "execution_count": null,
   "metadata": {},
   "outputs": [],
   "source": []
  }
 ],
 "metadata": {
  "kernelspec": {
   "display_name": ".venv",
   "language": "python",
   "name": "python3"
  },
  "language_info": {
   "codemirror_mode": {
    "name": "ipython",
    "version": 3
   },
   "file_extension": ".py",
   "mimetype": "text/x-python",
   "name": "python",
   "nbconvert_exporter": "python",
   "pygments_lexer": "ipython3",
   "version": "3.12.7"
  }
 },
 "nbformat": 4,
 "nbformat_minor": 2
}
