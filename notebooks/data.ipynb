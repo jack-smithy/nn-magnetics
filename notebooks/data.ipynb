{
 "cells": [
  {
   "cell_type": "code",
   "execution_count": 1,
   "metadata": {},
   "outputs": [],
   "source": [
    "%load_ext autoreload\n",
    "%autoreload 2"
   ]
  },
  {
   "cell_type": "code",
   "execution_count": 7,
   "metadata": {},
   "outputs": [],
   "source": [
    "from magpylib import magnet\n",
    "from nn_magnetics.utils.physics import (\n",
    "    Nz_elementwise,\n",
    "    Nz,\n",
    "    magnet_cuboid_Bfield_homogeneous,\n",
    ")\n",
    "from nn_magnetics.utils.metrics import angle_error, relative_amplitude_error, calculate_metrics_baseline\n",
    "from nn_magnetics.data.create_data import generate_points_grid\n",
    "import numpy as np\n",
    "from nn_magnetics.data import AnisotropicData\n",
    "from nn_magnetics.models import QuaternionNet, AngleAmpCorrectionNetwork\n",
    "from pathlib import Path\n",
    "import torch\n",
    "from nn_magnetics.utils.plotting import plot_heatmaps\n",
    "from time import perf_counter\n",
    "from nn_magnetics.predictions import B as calcB\n",
    "import magpylib\n",
    "from magpylib_material_response import meshing, demag"
   ]
  },
  {
   "cell_type": "code",
   "execution_count": null,
   "metadata": {},
   "outputs": [],
   "source": [
    "torch.set_printoptions(precision=8)"
   ]
  },
  {
   "cell_type": "code",
   "execution_count": 36,
   "metadata": {},
   "outputs": [],
   "source": [
    "valid_data = AnisotropicData(\"../data/3dof_chi_v2/validation_fast\", device=\"cpu\")\n",
    "X, B = valid_data.get_magnets()\n",
    "X, B = X[:1, 5, :], B[:1, 5, :]"
   ]
  },
  {
   "cell_type": "code",
   "execution_count": 37,
   "metadata": {},
   "outputs": [
    {
     "data": {
      "text/plain": [
       "(tensor(3.21726561e-05), tensor(6.75707207))"
      ]
     },
     "execution_count": 37,
     "metadata": {},
     "output_type": "execute_result"
    }
   ],
   "source": [
    "angle_err, amp_err = calculate_metrics_baseline(B)\n",
    "torch.mean(angle_err), torch.mean(amp_err)"
   ]
  },
  {
   "cell_type": "code",
   "execution_count": 38,
   "metadata": {},
   "outputs": [
    {
     "name": "stdout",
     "output_type": "stream",
     "text": [
      "tensor([1.01448185e-06, 5.79067633e-07, 1.15859365e-01, 1.14048974e-06,\n",
      "        6.57149281e-07, 1.23688066e-01])\n",
      "\u001b[35m2025-03-26 at 13:09:13\u001b[0m | \u001b[1m  INFO  \u001b[0m | \u001b[36mrun\u001b[0m | \u001b[33m{}\u001b[0m ℹ️ Start Demagnetization (inplace) of \u001b[34mCollection(id=5210314736)\u001b[0m with 495 cells - Counter({'Cuboid': 495})\n",
      "\u001b[35m2025-03-26 at 13:09:14\u001b[0m | \u001b[32m\u001b[1mSUCCESS \u001b[0m | \u001b[36mtimelog\u001b[0m | \u001b[33m{}\u001b[0m ✅  Demagnetization (inplace) of \u001b[34mCollection(id=5210314736)\u001b[0m with 495 cells - Counter({'Cuboid': 495}) done\u001b[32m 🕑 1.069sec\u001b[0m\n",
      "Torch B:\tB=[7.48300386e-07 3.09876684e-07 1.23688066e-01]\n",
      "Precomputed B:\tB=tensor([1.14048974e-06, 6.57149281e-07, 1.23688066e-01])\n",
      "Magpylib with calculated J=0.7633934811547399 from M:\tB=[7.54358433e-07 3.12385366e-07 1.24689412e-01]\n",
      "Magpylib with new J=0.7572628766091738:\tB=[7.48300386e-07 3.09876684e-07 1.23688066e-01]\n",
      "==================================================\n"
     ]
    }
   ],
   "source": [
    "for Xi, Bi in zip(X, B):\n",
    "    a, b = Xi[0], Xi[1]\n",
    "    chix, chiy, chiz = Xi[2], Xi[3], Xi[4]\n",
    "    x, y, z = Xi[5], Xi[6], Xi[7]\n",
    "\n",
    "    _, B2 = Bi[:3], Bi[3:]\n",
    "    print(Bi)\n",
    "\n",
    "    Dz = Nz_elementwise(a=a.item(), b=b.item(), c=1)\n",
    "\n",
    "    # my solution\n",
    "    B1 = magnet_cuboid_Bfield_homogeneous(\n",
    "        observers=torch.tensor([[x, y, z]]),\n",
    "        dimensions=torch.tensor([[a, b, 1]]),\n",
    "        polarizations=torch.tensor([[0, 0,1 / (1 + chiz * Dz) ]]),\n",
    "    )[0].numpy()\n",
    "\n",
    "    cuboid = magnet.Cuboid(dimension=(a, b, 1), polarization=(0, 0, 1))\n",
    "\n",
    "    mesh = meshing.mesh_Cuboid(cuboid=cuboid, target_elems=500)\n",
    "    demag.apply_demag(mesh, (chix, chiy, chiz), inplace=True)\n",
    "    M = mesh.getM([m.position for m in mesh])\n",
    "    J = magpylib.mu_0 * np.mean(M, axis=0)\n",
    "    cuboid2 = magnet.Cuboid(dimension=(a, b, 1), polarization=J)\n",
    "    B4 = cuboid2.getB([x, y, z])\n",
    "\n",
    "    reduced_polarization = (0, 0, 1 / (1 + chiz * Dz))\n",
    "    magnet_reduced = magnet.Cuboid(\n",
    "        polarization=reduced_polarization,\n",
    "        dimension=(a, b, 1),\n",
    "    )\n",
    "    B5 = magnet_reduced.getB([x, y, z])\n",
    "\n",
    "    # print(f\"a={a}, b={b}, c=1.0, chi={chix.item(), chiy.item(), chiz.item()}, obs={x.item(), y.item(), z.item()}, dmf={dmf}\")\n",
    "    print(f\"Torch B:\\tB={B1}\") # my implementation of getB in torch w/ reduced P\n",
    "    print(f\"Precomputed B:\\tB={B2}\") # precomputed B_reduced\n",
    "    print(f\"Magpylib with calculated J={J[2]} from M:\\tB={B4}\") # getB from reduced P demag\n",
    "    print(f\"Magpylib with new J={1 / (1 + chiz * Dz)}:\\tB={B5}\")\n",
    "    print(\"=\" * 50)"
   ]
  },
  {
   "cell_type": "code",
   "execution_count": null,
   "metadata": {},
   "outputs": [],
   "source": [
    "a = 0.5796\n",
    "b = 1.9572\n",
    "chi = (0.0695, 0.1402, 0.9083)\n",
    "\n",
    "cuboid = magpylib.magnet.Cuboid(dimension=(a, b, 1), polarization=(0, 0, 1))\n",
    "\n",
    "mesh = meshing.mesh_Cuboid(cuboid=cuboid, target_elems=100)\n",
    "demag.apply_demag(mesh, susceptibility=chi, inplace=True)\n",
    "\n",
    "M = mesh.getM([m.position for m in mesh])\n",
    "J = magpylib.mu_0 * np.mean(M, axis=0)\n",
    "\n",
    "cuboid2 = magpylib.magnet.Cuboid(dimension=(a, b, 1), polarization=J)\n",
    "obs = [1.6000, 2.4000, 2.4000]\n",
    "\n",
    "B2 = cuboid2.getB(obs)\n",
    "B2"
   ]
  }
 ],
 "metadata": {
  "kernelspec": {
   "display_name": ".venv",
   "language": "python",
   "name": "python3"
  },
  "language_info": {
   "codemirror_mode": {
    "name": "ipython",
    "version": 3
   },
   "file_extension": ".py",
   "mimetype": "text/x-python",
   "name": "python",
   "nbconvert_exporter": "python",
   "pygments_lexer": "ipython3",
   "version": "3.12.7"
  }
 },
 "nbformat": 4,
 "nbformat_minor": 2
}
