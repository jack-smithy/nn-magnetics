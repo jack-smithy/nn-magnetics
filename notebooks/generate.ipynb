{
 "cells": [
  {
   "cell_type": "code",
   "execution_count": 360,
   "metadata": {},
   "outputs": [
    {
     "name": "stdout",
     "output_type": "stream",
     "text": [
      "The autoreload extension is already loaded. To reload it, use:\n",
      "  %reload_ext autoreload\n"
     ]
    }
   ],
   "source": [
    "%load_ext autoreload\n",
    "%autoreload 2"
   ]
  },
  {
   "cell_type": "code",
   "execution_count": 374,
   "metadata": {},
   "outputs": [],
   "source": [
    "import matplotlib.pyplot as plt\n",
    "from plotting import plot_baseline_histograms\n",
    "from create_data import simulate_demag\n",
    "from metrics import relative_amplitude_error, angle_error\n",
    "import numpy as np\n",
    "from magpylib import mu_0\n",
    "from utils import demagnetizing_factor\n",
    "import scienceplots\n",
    "\n",
    "plt.style.use([\"science\", \"no-latex\"])"
   ]
  },
  {
   "cell_type": "code",
   "execution_count": 375,
   "metadata": {},
   "outputs": [
    {
     "name": "stdout",
     "output_type": "stream",
     "text": [
      "====================================================================================================\n",
      "Meshing magnet and applying demag effects\n",
      "\u001b[35m2024-11-07 at 10:39:31\u001b[0m | \u001b[1m  INFO  \u001b[0m | \u001b[36mrun\u001b[0m | \u001b[33m{}\u001b[0m ℹ️ Start Demagnetization of \u001b[34mCollection_01\u001b[0m with 100 cells - Counter({'Cuboid': 100})\n",
      "\u001b[35m2024-11-07 at 10:39:31\u001b[0m | \u001b[32m\u001b[1mSUCCESS \u001b[0m | \u001b[36mtimelog\u001b[0m | \u001b[33m{}\u001b[0m ✅  Demagnetization of \u001b[34mCollection_01\u001b[0m with 100 cells - Counter({'Cuboid': 100}) done\u001b[32m 🕑 1.031sec\u001b[0m\n",
      "Creating measurement grid\n",
      "Calculating analytical B-field\n",
      "Calculating demag B-field\n",
      "Calculating reduced field\n"
     ]
    }
   ],
   "source": [
    "data = simulate_demag(1, 1, 0.1)"
   ]
  },
  {
   "cell_type": "code",
   "execution_count": 376,
   "metadata": {},
   "outputs": [],
   "source": [
    "B_demag = data[\"grid_field\"]\n",
    "B_ana = data[\"grid_field_ana\"]\n",
    "grid = data[\"grid\"]\n",
    "a = data[\"a\"]\n",
    "b = data[\"b\"]\n",
    "chi = data[\"chi\"]\n",
    "demag_factor= data[\"demagnetization_factor\"]\n",
    "B_reduced = data[\"grid_field_reduced\"]"
   ]
  },
  {
   "cell_type": "code",
   "execution_count": 377,
   "metadata": {},
   "outputs": [],
   "source": [
    "dmf = demagnetizing_factor(1, 1, 1)"
   ]
  },
  {
   "cell_type": "code",
   "execution_count": 378,
   "metadata": {},
   "outputs": [],
   "source": [
    "demag_factor_ana = 1 - 0.1 * dmf"
   ]
  },
  {
   "cell_type": "code",
   "execution_count": 379,
   "metadata": {},
   "outputs": [
    {
     "data": {
      "text/plain": [
       "(17360, 3)"
      ]
     },
     "execution_count": 379,
     "metadata": {},
     "output_type": "execute_result"
    }
   ],
   "source": [
    "B_reduced_ana = B_reduced.copy()\n",
    "B_reduced_ana[:,2] *= demag_factor_ana\n",
    "B_reduced_ana.shape"
   ]
  },
  {
   "cell_type": "code",
   "execution_count": 404,
   "metadata": {},
   "outputs": [],
   "source": [
    "values = B_demag[:,2]"
   ]
  },
  {
   "cell_type": "code",
   "execution_count": 406,
   "metadata": {},
   "outputs": [
    {
     "data": {
      "image/png": "[encoded data removed]",
      "text/plain": [
       "<Figure size 500x400 with 2 Axes>"
      ]
     },
     "metadata": {},
     "output_type": "display_data"
    }
   ],
   "source": [
    "x = grid.T[0]\n",
    "y = grid.T[1]\n",
    "z = grid.T[2]\n",
    "\n",
    "tolerance = 0.0000001  # Adjust this value as needed\n",
    "\n",
    "# Filter points where y is approximately 0\n",
    "mask = np.abs(z) < tolerance\n",
    "x_slice = x[mask]\n",
    "z_slice = y[mask]\n",
    "values_slice = values[mask]\n",
    "# Create grid for x and z\n",
    "x_bins = np.linspace(min(x_slice), max(x_slice), 25)\n",
    "z_bins = np.linspace(min(z_slice), max(z_slice), 25)\n",
    "\n",
    "# Create a 2D histogram of the values without interpolation\n",
    "heatmap, x_edges, z_edges = np.histogram2d(\n",
    "    x_slice, z_slice, bins=[x_bins, z_bins], weights=values_slice\n",
    ")\n",
    "heatmap_counts, _, _ = np.histogram2d(x_slice, z_slice, bins=[x_bins, z_bins])\n",
    "\n",
    "# Avoid division by zero for empty cells\n",
    "heatmap = np.divide(heatmap, heatmap_counts, where=heatmap_counts != 0)\n",
    "\n",
    "# Plot the heatmap\n",
    "plt.figure(figsize=(5, 4))\n",
    "plt.pcolormesh(x_edges, z_edges, heatmap.T, shading=\"auto\", cmap=\"viridis\")\n",
    "plt.colorbar(label=\"B_y (T)\")\n",
    "plt.xlabel(\"X (mm)\")\n",
    "plt.ylabel(\"Z (mm)\")\n",
    "plt.title(\"\")\n",
    "plt.show()"
   ]
  },
  {
   "cell_type": "code",
   "execution_count": null,
   "metadata": {},
   "outputs": [],
   "source": []
  }
 ],
 "metadata": {
  "kernelspec": {
   "display_name": ".venv",
   "language": "python",
   "name": "python3"
  },
  "language_info": {
   "codemirror_mode": {
    "name": "ipython",
    "version": 3
   },
   "file_extension": ".py",
   "mimetype": "text/x-python",
   "name": "python",
   "nbconvert_exporter": "python",
   "pygments_lexer": "ipython3",
   "version": "3.10.15"
  }
 },
 "nbformat": 4,
 "nbformat_minor": 2
}
