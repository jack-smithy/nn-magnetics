{
 "cells": [
  {
   "cell_type": "code",
   "execution_count": null,
   "metadata": {},
   "outputs": [],
   "source": [
    "import wandb"
   ]
  },
  {
   "cell_type": "code",
   "execution_count": null,
   "metadata": {},
   "outputs": [],
   "source": [
    "project_name = \"isotropic_chi_v2\"\n",
    "run_name = \"different-aardvark-14\""
   ]
  },
  {
   "cell_type": "code",
   "execution_count": null,
   "metadata": {},
   "outputs": [],
   "source": [
    "# Initialize the API\n",
    "api = wandb.Api()\n",
    "\n",
    "# Retrieve the run (replace with your project name and run ID)\n",
    "run = api.run(\"jack-smithy-university-of-vienna/isotropic_chi_v2/fjk37ycy\")\n"
   ]
  },
  {
   "cell_type": "code",
   "execution_count": null,
   "metadata": {},
   "outputs": [],
   "source": [
    "# Add the image or plot (e.g., a saved file)\n",
    "run.log(\n",
    "    {\n",
    "        \"histogram\": wandb.Image(\n",
    "            f\"../results/{project_name}/{run_name}/hist_isotropic.png\"\n",
    "        ),\n",
    "        \"heatmap_amplitude\": wandb.Image(\n",
    "            f\"../results/{project_name}/{run_name}/heatmap_amplitude_isotropic.png\"\n",
    "        ),\n",
    "        \"heatmap_angle\": wandb.Image(\n",
    "            f\"../results/{project_name}/{run_name}/heatmap_angle_isotropic.png\"\n",
    "        ),\n",
    "\n",
    "    }\n",
    ")\n",
    "\n",
    "# Save the updates\n",
    "run.update()"
   ]
  },
  {
   "cell_type": "code",
   "execution_count": null,
   "metadata": {},
   "outputs": [],
   "source": []
  }
 ],
 "metadata": {
  "kernelspec": {
   "display_name": ".venv",
   "language": "python",
   "name": "python3"
  },
  "language_info": {
   "codemirror_mode": {
    "name": "ipython",
    "version": 3
   },
   "file_extension": ".py",
   "mimetype": "text/x-python",
   "name": "python",
   "nbconvert_exporter": "python",
   "pygments_lexer": "ipython3",
   "version": "3.12.7"
  }
 },
 "nbformat": 4,
 "nbformat_minor": 2
}
